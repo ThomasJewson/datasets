{
 "cells": [
  {
   "cell_type": "markdown",
   "metadata": {},
   "source": [
    "# Questions from lesson 1"
   ]
  },
  {
   "cell_type": "markdown",
   "metadata": {},
   "source": [
    "**Question 1:**\n",
    "\n",
    "*Save the following `https://raw.githubusercontent.com/ThomasJewson/datasets/master/Iris.csv` to a DataFrame called `IrisDF`, then ouput it*"
   ]
  },
  {
   "cell_type": "code",
   "execution_count": null,
   "metadata": {},
   "outputs": [],
   "source": [
    "# Solution\n",
    "\n",
    "import pandas as pd \n",
    "\n",
    "IrisDF = pd.read_csv(\"https://raw.githubusercontent.com/ThomasJewson/datasets/master/Iris.csv\")\n",
    "IrisDF"
   ]
  },
  {
   "cell_type": "markdown",
   "metadata": {},
   "source": [
    "**Question 2:**\n",
    "\n",
    "*Find two ways to output the last 3 rows from the `IrisDF` DataFrame*"
   ]
  },
  {
   "cell_type": "code",
   "execution_count": null,
   "metadata": {},
   "outputs": [],
   "source": [
    "# Solution \n",
    "IrisDF[147:150]"
   ]
  },
  {
   "cell_type": "code",
   "execution_count": null,
   "metadata": {},
   "outputs": [],
   "source": [
    "# Solution \n",
    "IrisDF[-3:]"
   ]
  },
  {
   "cell_type": "markdown",
   "metadata": {},
   "source": [
    "**Question 3:**\n",
    "\n",
    "*Save the first three rows of `sepal_length`,`petal_width` and `species` columns from the `IrisDF` to a new DataFrame, outputting your results.*"
   ]
  },
  {
   "cell_type": "code",
   "execution_count": null,
   "metadata": {},
   "outputs": [],
   "source": [
    "#Solution\n",
    "MyFlowers = IrisDF[0:3][[\"sepal_length\",\"petal_width\",\"species\"]]\n",
    "MyFlowers"
   ]
  },
  {
   "cell_type": "markdown",
   "metadata": {},
   "source": [
    "**Question 4:**\n",
    "\n",
    "*Insert a new column on the right hand side of the new DataFrame you made with the following data and output your result.*\n",
    "\n",
    "||Colour|\n",
    "|-|-|\n",
    "|0|Violet|\n",
    "|1|Blue|\n",
    "|2|Purple|\n"
   ]
  },
  {
   "cell_type": "code",
   "execution_count": null,
   "metadata": {},
   "outputs": [],
   "source": [
    "#Solution\n",
    "MyFlowers[\"Colour\"]=[\"Violet\",\"Blue\",\"Purple\"]\n",
    "MyFlowers"
   ]
  },
  {
   "cell_type": "markdown",
   "metadata": {},
   "source": [
    "**Question 5:**\n",
    "\n",
    "*Save your DataFrame to your computer in an appropriate location.*"
   ]
  },
  {
   "cell_type": "code",
   "execution_count": null,
   "metadata": {},
   "outputs": [],
   "source": [
    "#Solution\n",
    "MyFlowers.to_csv(\"YOUR\\\\FILE\\\\LOCATION\\\\MyFlowers.csv\",index=False)"
   ]
  }
 ],
 "metadata": {
  "kernelspec": {
   "display_name": "Python 3",
   "language": "python",
   "name": "python3"
  },
  "language_info": {
   "codemirror_mode": {
    "name": "ipython",
    "version": 3
   },
   "file_extension": ".py",
   "mimetype": "text/x-python",
   "name": "python",
   "nbconvert_exporter": "python",
   "pygments_lexer": "ipython3",
   "version": "3.7.4"
  }
 },
 "nbformat": 4,
 "nbformat_minor": 2
}
