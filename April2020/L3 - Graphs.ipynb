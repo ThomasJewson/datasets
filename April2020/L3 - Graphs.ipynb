{
 "cells": [
  {
   "cell_type": "markdown",
   "metadata": {},
   "source": [
    "# Lesson 3: Graphs"
   ]
  },
  {
   "cell_type": "markdown",
   "metadata": {},
   "source": [
    "**LEARNING OBJECTIVES:**\n",
    "\n",
    "1. Learn how to use the following types of graphs and charts:\n",
    "\n",
    "    i. Pie\n",
    "    \n",
    "    ii. Line\n",
    "    \n",
    "    iii. Bar \n",
    "    \n",
    "    iv. Histogram\n",
    "    \n",
    "    \n",
    "2. Learn how to adjust the atributes of the graphs"
   ]
  },
  {
   "cell_type": "markdown",
   "metadata": {},
   "source": [
    "**Pie Charts**\n",
    "\n",
    "First things first, as always, we need to import the `pandas` library. "
   ]
  },
  {
   "cell_type": "code",
   "execution_count": 2,
   "metadata": {},
   "outputs": [],
   "source": [
    "import pandas as pd"
   ]
  },
  {
   "cell_type": "markdown",
   "metadata": {},
   "source": [
    "Lets start this section with data we had before about the car shop. Below the code produces and saves a pivot table to `CarShopPiv`."
   ]
  },
  {
   "cell_type": "code",
   "execution_count": 5,
   "metadata": {},
   "outputs": [
    {
     "data": {
      "text/html": [
       "<div>\n",
       "<style scoped>\n",
       "    .dataframe tbody tr th:only-of-type {\n",
       "        vertical-align: middle;\n",
       "    }\n",
       "\n",
       "    .dataframe tbody tr th {\n",
       "        vertical-align: top;\n",
       "    }\n",
       "\n",
       "    .dataframe thead th {\n",
       "        text-align: right;\n",
       "    }\n",
       "</style>\n",
       "<table border=\"1\" class=\"dataframe\">\n",
       "  <thead>\n",
       "    <tr style=\"text-align: right;\">\n",
       "      <th></th>\n",
       "      <th>Quantity</th>\n",
       "      <th>Total Price</th>\n",
       "    </tr>\n",
       "    <tr>\n",
       "      <th>Product</th>\n",
       "      <th></th>\n",
       "      <th></th>\n",
       "    </tr>\n",
       "  </thead>\n",
       "  <tbody>\n",
       "    <tr>\n",
       "      <td>Oil</td>\n",
       "      <td>2</td>\n",
       "      <td>68</td>\n",
       "    </tr>\n",
       "    <tr>\n",
       "      <td>Turbo</td>\n",
       "      <td>3</td>\n",
       "      <td>1086</td>\n",
       "    </tr>\n",
       "    <tr>\n",
       "      <td>Tyre</td>\n",
       "      <td>7</td>\n",
       "      <td>343</td>\n",
       "    </tr>\n",
       "  </tbody>\n",
       "</table>\n",
       "</div>"
      ],
      "text/plain": [
       "         Quantity  Total Price\n",
       "Product                       \n",
       "Oil             2           68\n",
       "Turbo           3         1086\n",
       "Tyre            7          343"
      ]
     },
     "execution_count": 5,
     "metadata": {},
     "output_type": "execute_result"
    }
   ],
   "source": [
    "import numpy as np\n",
    "\n",
    "CarShop = pd.read_csv(\n",
    "    \"https://raw.githubusercontent.com/ThomasJewson/datasets/master/CarShop.csv\"\n",
    ")\n",
    "\n",
    "CarShopPiv = CarShop.pivot_table(\n",
    "    index=[\"Product\"],\n",
    "    aggfunc=np.sum\n",
    ")\n",
    "CarShopPiv"
   ]
  },
  {
   "cell_type": "markdown",
   "metadata": {},
   "source": [
    "Now we want to create a pie chart of the `Total Price` column.\n",
    "\n",
    "To plot graphs in `pandas` we need to use the following function `.plot` then we need to specify what type of chart we want to plot. For this example, we want to plot a pie chart. Therefore our function is `.plot.pie()`.\n",
    "\n",
    "Then within this function we need to tell `pandas` what column to plot this graph about. This is done with the following argument `y=\"Total Price\"`. See below."
   ]
  },
  {
   "cell_type": "code",
   "execution_count": 10,
   "metadata": {},
   "outputs": [
    {
     "data": {
      "text/plain": [
       "<matplotlib.axes._subplots.AxesSubplot at 0x1ab99310188>"
      ]
     },
     "execution_count": 10,
     "metadata": {},
     "output_type": "execute_result"
    },
    {
     "data": {
      "image/png": "[encoded data removed]",
      "text/plain": [
       "<Figure size 432x288 with 1 Axes>"
      ]
     },
     "metadata": {},
     "output_type": "display_data"
    }
   ],
   "source": [
    "CarShopPiv.plot.pie(\n",
    "    y=\"Total Price\"\n",
    ")"
   ]
  },
  {
   "cell_type": "markdown",
   "metadata": {},
   "source": [
    "**Line plots**\n",
    "\n",
    "The data below is the percentage Gross Domestic Product (GDP) growth per year of the EU and Germany from 2007 to 2018 [1]. "
   ]
  },
  {
   "cell_type": "code",
   "execution_count": 12,
   "metadata": {},
   "outputs": [
    {
     "data": {
      "text/html": [
       "<div>\n",
       "<style scoped>\n",
       "    .dataframe tbody tr th:only-of-type {\n",
       "        vertical-align: middle;\n",
       "    }\n",
       "\n",
       "    .dataframe tbody tr th {\n",
       "        vertical-align: top;\n",
       "    }\n",
       "\n",
       "    .dataframe thead th {\n",
       "        text-align: right;\n",
       "    }\n",
       "</style>\n",
       "<table border=\"1\" class=\"dataframe\">\n",
       "  <thead>\n",
       "    <tr style=\"text-align: right;\">\n",
       "      <th></th>\n",
       "      <th>Year</th>\n",
       "      <th>EU</th>\n",
       "      <th>Germany</th>\n",
       "    </tr>\n",
       "  </thead>\n",
       "  <tbody>\n",
       "    <tr>\n",
       "      <td>0</td>\n",
       "      <td>2007</td>\n",
       "      <td>3.1</td>\n",
       "      <td>3.0</td>\n",
       "    </tr>\n",
       "    <tr>\n",
       "      <td>1</td>\n",
       "      <td>2008</td>\n",
       "      <td>0.5</td>\n",
       "      <td>1.0</td>\n",
       "    </tr>\n",
       "    <tr>\n",
       "      <td>2</td>\n",
       "      <td>2009</td>\n",
       "      <td>-4.3</td>\n",
       "      <td>-5.7</td>\n",
       "    </tr>\n",
       "    <tr>\n",
       "      <td>3</td>\n",
       "      <td>2010</td>\n",
       "      <td>2.1</td>\n",
       "      <td>4.2</td>\n",
       "    </tr>\n",
       "    <tr>\n",
       "      <td>4</td>\n",
       "      <td>2011</td>\n",
       "      <td>1.7</td>\n",
       "      <td>3.9</td>\n",
       "    </tr>\n",
       "    <tr>\n",
       "      <td>5</td>\n",
       "      <td>2012</td>\n",
       "      <td>-0.4</td>\n",
       "      <td>0.4</td>\n",
       "    </tr>\n",
       "    <tr>\n",
       "      <td>6</td>\n",
       "      <td>2013</td>\n",
       "      <td>0.3</td>\n",
       "      <td>0.4</td>\n",
       "    </tr>\n",
       "    <tr>\n",
       "      <td>7</td>\n",
       "      <td>2014</td>\n",
       "      <td>1.8</td>\n",
       "      <td>2.2</td>\n",
       "    </tr>\n",
       "    <tr>\n",
       "      <td>8</td>\n",
       "      <td>2015</td>\n",
       "      <td>2.3</td>\n",
       "      <td>1.7</td>\n",
       "    </tr>\n",
       "    <tr>\n",
       "      <td>9</td>\n",
       "      <td>2016</td>\n",
       "      <td>2.0</td>\n",
       "      <td>2.2</td>\n",
       "    </tr>\n",
       "    <tr>\n",
       "      <td>10</td>\n",
       "      <td>2017</td>\n",
       "      <td>2.5</td>\n",
       "      <td>2.5</td>\n",
       "    </tr>\n",
       "    <tr>\n",
       "      <td>11</td>\n",
       "      <td>2018</td>\n",
       "      <td>2.0</td>\n",
       "      <td>1.5</td>\n",
       "    </tr>\n",
       "  </tbody>\n",
       "</table>\n",
       "</div>"
      ],
      "text/plain": [
       "    Year   EU  Germany\n",
       "0   2007  3.1      3.0\n",
       "1   2008  0.5      1.0\n",
       "2   2009 -4.3     -5.7\n",
       "3   2010  2.1      4.2\n",
       "4   2011  1.7      3.9\n",
       "5   2012 -0.4      0.4\n",
       "6   2013  0.3      0.4\n",
       "7   2014  1.8      2.2\n",
       "8   2015  2.3      1.7\n",
       "9   2016  2.0      2.2\n",
       "10  2017  2.5      2.5\n",
       "11  2018  2.0      1.5"
      ]
     },
     "execution_count": 12,
     "metadata": {},
     "output_type": "execute_result"
    }
   ],
   "source": [
    "GDP = pd.read_csv(\"https://raw.githubusercontent.com/ThomasJewson/datasets/master/GDP.csv\")\n",
    "GDP"
   ]
  },
  {
   "cell_type": "markdown",
   "metadata": {},
   "source": [
    "Again, we need to use the `.plot` function, however, this time we want a line graph. Therefore, our function is `.plot.line()`.\n",
    "\n",
    "We need to define what we want to be the x-axis and y-axis in the arguments of the function. Therefore, we want the arguments to be `x=\"Year\"` and `y=\"EU\"`. "
   ]
  },
  {
   "cell_type": "code",
   "execution_count": 13,
   "metadata": {},
   "outputs": [
    {
     "data": {
      "text/plain": [
       "<matplotlib.axes._subplots.AxesSubplot at 0x1ab9936ea08>"
      ]
     },
     "execution_count": 13,
     "metadata": {},
     "output_type": "execute_result"
    },
    {
     "data": {
      "image/png": "[encoded data removed]",
      "text/plain": [
       "<Figure size 432x288 with 1 Axes>"
      ]
     },
     "metadata": {
      "needs_background": "light"
     },
     "output_type": "display_data"
    }
   ],
   "source": [
    "GDP.plot.line(\n",
    "    x=\"Year\",\n",
    "    y=\"EU\"\n",
    ")"
   ]
  },
  {
   "cell_type": "markdown",
   "metadata": {},
   "source": [
    "It is possible to change the attributes of the graph by introducing more arguments into the function. For example, we can use the following arguments.\n",
    "\n",
    "Note, the American spelling of colour is used."
   ]
  },
  {
   "cell_type": "code",
   "execution_count": 17,
   "metadata": {},
   "outputs": [
    {
     "data": {
      "text/plain": [
       "<matplotlib.axes._subplots.AxesSubplot at 0x1ab9958f308>"
      ]
     },
     "execution_count": 17,
     "metadata": {},
     "output_type": "execute_result"
    },
    {
     "data": {
      "image/png": "[encoded data removed]",
      "text/plain": [
       "<Figure size 432x432 with 1 Axes>"
      ]
     },
     "metadata": {
      "needs_background": "light"
     },
     "output_type": "display_data"
    }
   ],
   "source": [
    "GDP.plot.line(\n",
    "    x=\"Year\",\n",
    "    y=\"EU\",\n",
    "    \n",
    "    color=\"green\", #Note, pandas uses the American spelling of colour\n",
    "    figsize=(6,6),\n",
    "    fontsize=10,\n",
    "    title=\"Change in EU's GDP (%) vs. Time\",\n",
    "    grid=False,\n",
    "    xlim=(2007,2018),\n",
    "    ylim=(-4.5,3.2)\n",
    ")"
   ]
  },
  {
   "cell_type": "markdown",
   "metadata": {},
   "source": [
    "All this arguments can be adjusted and changed. For example, the color atribute can be `green`,`red`,`blue`,`orange`,`purple`...etc. \n",
    "\n",
    "Have a play around with the arguments and adjust them so you understand what each of them does. "
   ]
  },
  {
   "cell_type": "code",
   "execution_count": 25,
   "metadata": {},
   "outputs": [
    {
     "data": {
      "text/plain": [
       "<matplotlib.axes._subplots.AxesSubplot at 0x1ab9a83ce08>"
      ]
     },
     "execution_count": 25,
     "metadata": {},
     "output_type": "execute_result"
    },
    {
     "data": {
      "image/png": "[encoded data removed]",
      "text/plain": [
       "<Figure size 720x432 with 1 Axes>"
      ]
     },
     "metadata": {
      "needs_background": "light"
     },
     "output_type": "display_data"
    }
   ],
   "source": [
    "GDP.plot.line(\n",
    "    x=\"Year\",\n",
    "    y=\"EU\",\n",
    "    \n",
    "    color=\"violet\",\n",
    "    figsize=(10,6),\n",
    "    fontsize=15,\n",
    "    title=\"Change in EU's GDP (%) vs. Time\",\n",
    "    grid=True,\n",
    "    xlim=(2010,2018),\n",
    "    ylim=(-1,3)\n",
    ")"
   ]
  },
  {
   "cell_type": "markdown",
   "metadata": {},
   "source": [
    "We can also plot different columns of data on the same graph. For example, below we have plotted the `EU` and `Germany` columns on the y-axis by putting the two columns in a series `y=[\"EU\",\"Germany\"]`."
   ]
  },
  {
   "cell_type": "code",
   "execution_count": 27,
   "metadata": {},
   "outputs": [
    {
     "data": {
      "text/plain": [
       "<matplotlib.axes._subplots.AxesSubplot at 0x1ab9a949a08>"
      ]
     },
     "execution_count": 27,
     "metadata": {},
     "output_type": "execute_result"
    },
    {
     "data": {
      "image/png": "[encoded data removed]",
      "text/plain": [
       "<Figure size 432x288 with 1 Axes>"
      ]
     },
     "metadata": {
      "needs_background": "light"
     },
     "output_type": "display_data"
    }
   ],
   "source": [
    "GDP.plot.line(\n",
    "    x=\"Year\",\n",
    "    y=[\"EU\",\"Germany\"]\n",
    ")"
   ]
  },
  {
   "cell_type": "markdown",
   "metadata": {},
   "source": [
    "Again, we can also adjust the colour and other attributes of the graph. Notice how we have also put the color in a series as well. \n",
    "\n",
    "With `y=[\"EU\",\"Germany\"]` and `color=[\"blue\",\"orange\"]`, EU will be blue and Germany will be orange. This is because EU and blue are both the first entries into both series."
   ]
  },
  {
   "cell_type": "code",
   "execution_count": 30,
   "metadata": {},
   "outputs": [
    {
     "data": {
      "text/plain": [
       "<matplotlib.axes._subplots.AxesSubplot at 0x1ab9aa9edc8>"
      ]
     },
     "execution_count": 30,
     "metadata": {},
     "output_type": "execute_result"
    },
    {
     "data": {
      "image/png": "[encoded data removed]",
      "text/plain": [
       "<Figure size 720x432 with 1 Axes>"
      ]
     },
     "metadata": {
      "needs_background": "light"
     },
     "output_type": "display_data"
    }
   ],
   "source": [
    "GDP.plot.line(\n",
    "    x=\"Year\",\n",
    "    y=[\"EU\",\"Germany\"],\n",
    "    \n",
    "    title=\"Change in GDP (%) over time\",\n",
    "    color=[\"blue\",\"orange\"],\n",
    "    grid=True,\n",
    "    figsize=(10,6),\n",
    "    fontsize=13\n",
    ")"
   ]
  },
  {
   "cell_type": "markdown",
   "metadata": {},
   "source": [
    "**Bar Charts**\n",
    "\n",
    "To produce a bar chart we need to use the following function `.plot.bar()`. Bar charts have exactly the same arguments as line plots. "
   ]
  },
  {
   "cell_type": "code",
   "execution_count": 32,
   "metadata": {},
   "outputs": [
    {
     "data": {
      "text/plain": [
       "<matplotlib.axes._subplots.AxesSubplot at 0x1ab9aaa3ac8>"
      ]
     },
     "execution_count": 32,
     "metadata": {},
     "output_type": "execute_result"
    },
    {
     "data": {
      "image/png": "[encoded data removed]",
      "text/plain": [
       "<Figure size 720x432 with 1 Axes>"
      ]
     },
     "metadata": {
      "needs_background": "light"
     },
     "output_type": "display_data"
    }
   ],
   "source": [
    "GDP.plot.bar(\n",
    "    x=\"Year\",\n",
    "    y=[\"EU\",\"Germany\"],\n",
    "    \n",
    "    color=[\"orange\",\"purple\"],\n",
    "    title=\"Change in EU's GDP (%) vs. Time\",\n",
    "    grid=True,\n",
    "    figsize=(10,6),\n",
    "    fontsize=14\n",
    ")"
   ]
  },
  {
   "cell_type": "markdown",
   "metadata": {},
   "source": [
    "**Histograms**\n",
    "\n",
    "A histogram plot shows the frequency of particular units. Generally, these units are a fixed range of data.\n",
    "\n",
    "Below is some data about failed social media start-ups."
   ]
  },
  {
   "cell_type": "code",
   "execution_count": 36,
   "metadata": {},
   "outputs": [
    {
     "data": {
      "text/html": [
       "<div>\n",
       "<style scoped>\n",
       "    .dataframe tbody tr th:only-of-type {\n",
       "        vertical-align: middle;\n",
       "    }\n",
       "\n",
       "    .dataframe tbody tr th {\n",
       "        vertical-align: top;\n",
       "    }\n",
       "\n",
       "    .dataframe thead th {\n",
       "        text-align: right;\n",
       "    }\n",
       "</style>\n",
       "<table border=\"1\" class=\"dataframe\">\n",
       "  <thead>\n",
       "    <tr style=\"text-align: right;\">\n",
       "      <th></th>\n",
       "      <th>Name</th>\n",
       "      <th>Creation_Year</th>\n",
       "      <th>Failure_Year</th>\n",
       "      <th>Outcome</th>\n",
       "    </tr>\n",
       "  </thead>\n",
       "  <tbody>\n",
       "    <tr>\n",
       "      <td>0</td>\n",
       "      <td>Frankly</td>\n",
       "      <td>2004</td>\n",
       "      <td>2016</td>\n",
       "      <td>Shut Down</td>\n",
       "    </tr>\n",
       "    <tr>\n",
       "      <td>1</td>\n",
       "      <td>Formspring</td>\n",
       "      <td>2009</td>\n",
       "      <td>2013</td>\n",
       "      <td>Shut Down</td>\n",
       "    </tr>\n",
       "    <tr>\n",
       "      <td>2</td>\n",
       "      <td>Yik Yak</td>\n",
       "      <td>2013</td>\n",
       "      <td>2017</td>\n",
       "      <td>Shut Down</td>\n",
       "    </tr>\n",
       "    <tr>\n",
       "      <td>3</td>\n",
       "      <td>TeeBeeDee</td>\n",
       "      <td>2007</td>\n",
       "      <td>2009</td>\n",
       "      <td>Shut Down</td>\n",
       "    </tr>\n",
       "    <tr>\n",
       "      <td>4</td>\n",
       "      <td>Gowalla</td>\n",
       "      <td>2007</td>\n",
       "      <td>2013</td>\n",
       "      <td>Acquired</td>\n",
       "    </tr>\n",
       "    <tr>\n",
       "      <td>5</td>\n",
       "      <td>Friendster</td>\n",
       "      <td>2001</td>\n",
       "      <td>2015</td>\n",
       "      <td>Shut Down</td>\n",
       "    </tr>\n",
       "    <tr>\n",
       "      <td>6</td>\n",
       "      <td>Moped</td>\n",
       "      <td>1998</td>\n",
       "      <td>2014</td>\n",
       "      <td>Acquired</td>\n",
       "    </tr>\n",
       "    <tr>\n",
       "      <td>7</td>\n",
       "      <td>Vine</td>\n",
       "      <td>2012</td>\n",
       "      <td>2017</td>\n",
       "      <td>Shut Down</td>\n",
       "    </tr>\n",
       "    <tr>\n",
       "      <td>8</td>\n",
       "      <td>Secret</td>\n",
       "      <td>2013</td>\n",
       "      <td>2015</td>\n",
       "      <td>Shut Down</td>\n",
       "    </tr>\n",
       "  </tbody>\n",
       "</table>\n",
       "</div>"
      ],
      "text/plain": [
       "         Name  Creation_Year  Failure_Year    Outcome\n",
       "0     Frankly           2004          2016  Shut Down\n",
       "1  Formspring           2009          2013  Shut Down\n",
       "2     Yik Yak           2013          2017  Shut Down\n",
       "3   TeeBeeDee           2007          2009  Shut Down\n",
       "4     Gowalla           2007          2013   Acquired\n",
       "5  Friendster           2001          2015  Shut Down\n",
       "6       Moped           1998          2014   Acquired\n",
       "7        Vine           2012          2017  Shut Down\n",
       "8      Secret           2013          2015  Shut Down"
      ]
     },
     "execution_count": 36,
     "metadata": {},
     "output_type": "execute_result"
    }
   ],
   "source": [
    "StartUp = pd.read_csv(\"https://raw.githubusercontent.com/ThomasJewson/datasets/master/startup.csv\")\n",
    "StartUp"
   ]
  },
  {
   "cell_type": "markdown",
   "metadata": {},
   "source": [
    "Lets calculate the number of years each of these start-ups where active for. You should know how to do this from lesson 1 and 2."
   ]
  },
  {
   "cell_type": "code",
   "execution_count": 37,
   "metadata": {},
   "outputs": [
    {
     "data": {
      "text/html": [
       "<div>\n",
       "<style scoped>\n",
       "    .dataframe tbody tr th:only-of-type {\n",
       "        vertical-align: middle;\n",
       "    }\n",
       "\n",
       "    .dataframe tbody tr th {\n",
       "        vertical-align: top;\n",
       "    }\n",
       "\n",
       "    .dataframe thead th {\n",
       "        text-align: right;\n",
       "    }\n",
       "</style>\n",
       "<table border=\"1\" class=\"dataframe\">\n",
       "  <thead>\n",
       "    <tr style=\"text-align: right;\">\n",
       "      <th></th>\n",
       "      <th>Name</th>\n",
       "      <th>Creation_Year</th>\n",
       "      <th>Failure_Year</th>\n",
       "      <th>Operating_Years</th>\n",
       "      <th>Outcome</th>\n",
       "    </tr>\n",
       "  </thead>\n",
       "  <tbody>\n",
       "    <tr>\n",
       "      <td>0</td>\n",
       "      <td>Frankly</td>\n",
       "      <td>2004</td>\n",
       "      <td>2016</td>\n",
       "      <td>12</td>\n",
       "      <td>Shut Down</td>\n",
       "    </tr>\n",
       "    <tr>\n",
       "      <td>1</td>\n",
       "      <td>Formspring</td>\n",
       "      <td>2009</td>\n",
       "      <td>2013</td>\n",
       "      <td>4</td>\n",
       "      <td>Shut Down</td>\n",
       "    </tr>\n",
       "    <tr>\n",
       "      <td>2</td>\n",
       "      <td>Yik Yak</td>\n",
       "      <td>2013</td>\n",
       "      <td>2017</td>\n",
       "      <td>4</td>\n",
       "      <td>Shut Down</td>\n",
       "    </tr>\n",
       "    <tr>\n",
       "      <td>3</td>\n",
       "      <td>TeeBeeDee</td>\n",
       "      <td>2007</td>\n",
       "      <td>2009</td>\n",
       "      <td>2</td>\n",
       "      <td>Shut Down</td>\n",
       "    </tr>\n",
       "    <tr>\n",
       "      <td>4</td>\n",
       "      <td>Gowalla</td>\n",
       "      <td>2007</td>\n",
       "      <td>2013</td>\n",
       "      <td>6</td>\n",
       "      <td>Acquired</td>\n",
       "    </tr>\n",
       "    <tr>\n",
       "      <td>5</td>\n",
       "      <td>Friendster</td>\n",
       "      <td>2001</td>\n",
       "      <td>2015</td>\n",
       "      <td>14</td>\n",
       "      <td>Shut Down</td>\n",
       "    </tr>\n",
       "    <tr>\n",
       "      <td>6</td>\n",
       "      <td>Moped</td>\n",
       "      <td>1998</td>\n",
       "      <td>2014</td>\n",
       "      <td>16</td>\n",
       "      <td>Acquired</td>\n",
       "    </tr>\n",
       "    <tr>\n",
       "      <td>7</td>\n",
       "      <td>Vine</td>\n",
       "      <td>2012</td>\n",
       "      <td>2017</td>\n",
       "      <td>5</td>\n",
       "      <td>Shut Down</td>\n",
       "    </tr>\n",
       "    <tr>\n",
       "      <td>8</td>\n",
       "      <td>Secret</td>\n",
       "      <td>2013</td>\n",
       "      <td>2015</td>\n",
       "      <td>2</td>\n",
       "      <td>Shut Down</td>\n",
       "    </tr>\n",
       "  </tbody>\n",
       "</table>\n",
       "</div>"
      ],
      "text/plain": [
       "         Name  Creation_Year  Failure_Year  Operating_Years    Outcome\n",
       "0     Frankly           2004          2016               12  Shut Down\n",
       "1  Formspring           2009          2013                4  Shut Down\n",
       "2     Yik Yak           2013          2017                4  Shut Down\n",
       "3   TeeBeeDee           2007          2009                2  Shut Down\n",
       "4     Gowalla           2007          2013                6   Acquired\n",
       "5  Friendster           2001          2015               14  Shut Down\n",
       "6       Moped           1998          2014               16   Acquired\n",
       "7        Vine           2012          2017                5  Shut Down\n",
       "8      Secret           2013          2015                2  Shut Down"
      ]
     },
     "execution_count": 37,
     "metadata": {},
     "output_type": "execute_result"
    }
   ],
   "source": [
    "StartUp.insert(\n",
    "    3,\n",
    "    \"Operating_Years\",\n",
    "    StartUp[\"Failure_Year\"] - StartUp[\"Creation_Year\"]\n",
    ")\n",
    "StartUp"
   ]
  },
  {
   "cell_type": "markdown",
   "metadata": {},
   "source": [
    "The function to plot a histgram is similar to what we have seen before in the previous examples `.plot.hist()`. We need to define what column we want to plot as the frequency, in this case it will be the `Operating_Years` column. Therefore, counterintuitively we make `y=Operating_Years`. This is counterintuitive as the x-axis plots the `Operating_Years`, whereas, the y-axis plots the frequency of `Operating_Years`.\n",
    "\n",
    "Finaly we need to define the number of bins in the histogram plot. The number of bins is the number of intervals we split the x-axis into. For example, below we have `bins=7`, which means that the x-axis - which is the plot of `Operating_years` - will be divided into 7 equal parts. As our `Operating_Years` ranges from 2 years to 16 years, we have a data range of 16-2=14. Therefore, the magnetude of the intervals is 14 / 7 = 2. "
   ]
  },
  {
   "cell_type": "code",
   "execution_count": 38,
   "metadata": {},
   "outputs": [
    {
     "data": {
      "text/plain": [
       "<matplotlib.axes._subplots.AxesSubplot at 0x1ab9ad77588>"
      ]
     },
     "execution_count": 38,
     "metadata": {},
     "output_type": "execute_result"
    },
    {
     "data": {
      "image/png": "[encoded data removed]",
      "text/plain": [
       "<Figure size 432x288 with 1 Axes>"
      ]
     },
     "metadata": {
      "needs_background": "light"
     },
     "output_type": "display_data"
    }
   ],
   "source": [
    "StartUp.plot.hist(\n",
    "    y=\"Operating_Years\",\n",
    "    bins=7\n",
    ")"
   ]
  },
  {
   "cell_type": "markdown",
   "metadata": {},
   "source": [
    "To furthur my point, look at the first bin in the graph above, which spans from `Operating_Years = 2` to `Operating_Years = 4`, it has a frequency of 2. This is because there are two companies which have an operating years period between 4 and 2.\n",
    "\n",
    "The same attributes that we saw in line plots also works in the histogram function `.plot.hist()` as well. Furthuremore, with the same syntax it is possible to plot multiple histograms on the same plot."
   ]
  },
  {
   "cell_type": "markdown",
   "metadata": {},
   "source": [
    "**Conclusions**\n",
    "\n",
    "*You should now be able to do the following:*\n",
    "1. Produce the following graphs with the following functions:\n",
    "    1. Pie charts with `DATAFRAME.plot.pie()`\n",
    "    2. Line plots with `DATAFRAME.plot.line()`\n",
    "    3. Bar charts with `DATAFRAME.plot.bar()`\n",
    "    4. Histogram plots with `DATAFRAME.plot.bar()`\n",
    "2. Adjust the arguments of the previous functions to adjust the following:\n",
    "    1. Colour\n",
    "    2. Figure size\n",
    "    3. Titles and their size\n",
    "    4. Grid lines"
   ]
  },
  {
   "cell_type": "markdown",
   "metadata": {},
   "source": [
    "**Optional Extension**\n",
    "\n",
    "There are also a few other types of graphs that we can plot which you can learn more about here:        \n",
    "https://pandas.pydata.org/pandas-docs/version/0.23/generated/pandas.DataFrame.plot.html"
   ]
  },
  {
   "cell_type": "markdown",
   "metadata": {},
   "source": [
    "**Sources:**\n",
    "\n",
    "[1] https://data.worldbank.org/indicator/NY.GDP.MKTP.KD.ZG?locations=EU"
   ]
  }
 ],
 "metadata": {
  "kernelspec": {
   "display_name": "Python 3",
   "language": "python",
   "name": "python3"
  },
  "language_info": {
   "codemirror_mode": {
    "name": "ipython",
    "version": 3
   },
   "file_extension": ".py",
   "mimetype": "text/x-python",
   "name": "python",
   "nbconvert_exporter": "python",
   "pygments_lexer": "ipython3",
   "version": "3.7.4"
  }
 },
 "nbformat": 4,
 "nbformat_minor": 2
}
