{
 "cells": [
  {
   "cell_type": "markdown",
   "metadata": {},
   "source": [
    "# Lesson 1: Input and Output\n"
   ]
  },
  {
   "cell_type": "markdown",
   "metadata": {},
   "source": [
    "**LEARNING OBJECTIVES:**\n",
    "\n",
    "1. Learn how to use `pandas` to open and import infomation from .csv files\n",
    "2. Understand how to coordinate data within a DataFrame\n",
    "3. Learn how to inserting a coloumn into the DataFrame\n",
    "4. Learn how to export DataFrames as `.csv` files \n",
    "\n",
    "**Input and output of `.csv` files**\n",
    "\n",
    "The first step to learning how to use the `pandas` library is to import data. \n",
    "\n",
    "Pandas can open files called 'comma separated value' files (.csv). These files are a series of strings or numbers seperated with commas.\n",
    "\n",
    "For example, below is .csv might look like if you were to open in Notepad or in Microsoft Word:"
   ]
  },
  {
   "cell_type": "raw",
   "metadata": {},
   "source": [
    "Current liabilities:,Amount\n",
    "Accounts payable,30650\n",
    "Notes payable,15000\n",
    "Accrued expenses,4500\n",
    "Income taxes payable,5000\n",
    "Current portion of long-term debt,-5000"
   ]
  },
  {
   "cell_type": "markdown",
   "metadata": {},
   "source": [
    "However, if you were to open this in a spreadsheet program, such as Microsoft Excel it would produce the following table:\n",
    "\n",
    "| Current liabilities               |Amount    |\n",
    "| -------------                     |:--------:|\n",
    "| Accounts payable                  | 30650    |\n",
    "| Accrued expenses                  | 4500     |\n",
    "| Notes payable                     | 15000    |\n",
    "| Income taxes payable              | 4500     | \n",
    "| Current portion of long-term debt |-5000      | \n",
    "\n",
    "Now lets import this data into `pandas`:\n",
    "\n",
    "Firstly, we need to import the `pandas` library. Lets give a nickname of `pd`."
   ]
  },
  {
   "cell_type": "code",
   "execution_count": null,
   "metadata": {},
   "outputs": [],
   "source": [
    "import pandas as pd"
   ]
  },
  {
   "cell_type": "markdown",
   "metadata": {},
   "source": [
    "Now we need to import the data into our DataFrame, lets call our DataFrame object `BalanceSheet`. \n",
    "\n",
    "We are importing data from a file saved on the internet."
   ]
  },
  {
   "cell_type": "code",
   "execution_count": null,
   "metadata": {},
   "outputs": [],
   "source": [
    "BalanceSheet = pd.read_csv(\n",
    "    \"https://raw.githubusercontent.com/ThomasJewson/datasets/master/Liabilities.csv\"\n",
    ")"
   ]
  },
  {
   "cell_type": "markdown",
   "metadata": {},
   "source": [
    "Now lets output this DataFrame by calling the object name, `BalanceSheet`.\n",
    "\n",
    "The numbers on the left-hand side show the row index number, note Python starts counting from zero. The first row of the DataFrame are the column labels. "
   ]
  },
  {
   "cell_type": "code",
   "execution_count": null,
   "metadata": {},
   "outputs": [],
   "source": [
    "BalanceSheet"
   ]
  },
  {
   "cell_type": "markdown",
   "metadata": {},
   "source": [
    "Lets save this as a `.csv` file on our own computer. \n",
    "\n",
    "Firstly will need a file path to save our `.csv` to. I am going to save my `.csv` to my desktop, however, you should find a more suitable location for it. This has a file location of `C:\\Users\\Thomas\\Desktop`. Lets give the file the name `Liabilities.csv`. Therefore, my file path will be `C:\\Users\\Thomas\\Desktop\\Liabilities.csv`\n",
    "\n",
    "I found my file location by opening my `Desktop` folder. I then right-clicked and opened properties to find my file location.\n",
    "\n",
    "In Python strings the backslash (`\\`) is a special character, known as the \"escape\" character. We use the escape character to produce whitespace characters, for example, `\\n` is new line, `\\t` is tab and `\\r` is a return.\n",
    "\n",
    "However, how do we use a backslash in our strings then? Well, we use a double backslash, `\\\\`. See below."
   ]
  },
  {
   "cell_type": "code",
   "execution_count": null,
   "metadata": {},
   "outputs": [],
   "source": [
    "print(\"\\tPython\\nis\\ncool\\n\")\n",
    "\n",
    "print(\"This prints a single backslash \\\\\")"
   ]
  },
  {
   "cell_type": "markdown",
   "metadata": {},
   "source": [
    "Therefore, we need to change all the single backslashes in our file path to double backslashes. \n",
    "\n",
    "My file pathway is now `C:\\\\Users\\\\Tom\\\\Documents\\\\Python\\\\Liabilities.csv`\n",
    "\n",
    "Replace my file pathway below with yours and save the the `.csv` file."
   ]
  },
  {
   "cell_type": "code",
   "execution_count": null,
   "metadata": {},
   "outputs": [],
   "source": [
    "BalanceSheet.to_csv(\"C:\\\\Users\\\\Tom\\\\Documents\\\\Python\\\\Liabilities.csv\",index=False)"
   ]
  },
  {
   "cell_type": "markdown",
   "metadata": {},
   "source": [
    "We do not want the index to be saved as it is automatically generated upon reading the file, leading to duplicate index columns being produced. Therefore, we need to use the `index=False` argument. \n",
    "\n",
    "We can read from this `.csv` file with the same function (`.read_csv()`) we used before. \n",
    "\n",
    "Again, you will need to replace my file pathway."
   ]
  },
  {
   "cell_type": "code",
   "execution_count": null,
   "metadata": {},
   "outputs": [],
   "source": [
    "BalanceSheet_2 = pd.read_csv(\n",
    "    \"C:\\\\Users\\\\Tom\\\\Documents\\\\Python\\\\Liabilities.csv\"\n",
    ")\n",
    "\n",
    "BalanceSheet_2"
   ]
  },
  {
   "cell_type": "markdown",
   "metadata": {},
   "source": [
    "**Coordination of data**\n",
    "\n",
    "We already know how to output the whole DataFrame, however, to selectively ouput data from the DataFrame we need to coordinate the infomation we want.\n",
    "\n",
    "To coordinate data we need to tell the Python which rows and columns we want to output. This is done by using our row index numbers and column labels.\n",
    "\n",
    "For example, if we wanted to only output the `Amount` column we would use the following code."
   ]
  },
  {
   "cell_type": "code",
   "execution_count": null,
   "metadata": {},
   "outputs": [],
   "source": [
    "BalanceSheet[\"Amount\"]"
   ]
  },
  {
   "cell_type": "markdown",
   "metadata": {},
   "source": [
    "If we want to only output the first row, which has a row index number of `0`, we would use the following code.  "
   ]
  },
  {
   "cell_type": "code",
   "execution_count": null,
   "metadata": {},
   "outputs": [],
   "source": [
    "BalanceSheet[0:1]"
   ]
  },
  {
   "cell_type": "markdown",
   "metadata": {},
   "source": [
    "The first number in the square brackets is where `pandas` starts outputting from and the second number in the square brackets is where `pandas` stops.\n",
    "\n",
    "Therefore, if we wanted to ouput rows `1`,`2` and `3` we would do the following."
   ]
  },
  {
   "cell_type": "code",
   "execution_count": null,
   "metadata": {},
   "outputs": [],
   "source": [
    "BalanceSheet[1:4]"
   ]
  },
  {
   "cell_type": "markdown",
   "metadata": {},
   "source": [
    "We can even print out all the data after a certain row index, for example, all the rows after `2`."
   ]
  },
  {
   "cell_type": "code",
   "execution_count": null,
   "metadata": {},
   "outputs": [],
   "source": [
    "BalanceSheet[2:]"
   ]
  },
  {
   "cell_type": "markdown",
   "metadata": {},
   "source": [
    "Or even all the data before a certain row index, for example, all the rows before `2`."
   ]
  },
  {
   "cell_type": "code",
   "execution_count": null,
   "metadata": {},
   "outputs": [],
   "source": [
    "BalanceSheet[:2]"
   ]
  },
  {
   "cell_type": "markdown",
   "metadata": {},
   "source": [
    "We can even tell `pandas` to output everything expect the last row with the following."
   ]
  },
  {
   "cell_type": "code",
   "execution_count": null,
   "metadata": {},
   "outputs": [],
   "source": [
    "BalanceSheet[:-1]"
   ]
  },
  {
   "cell_type": "markdown",
   "metadata": {},
   "source": [
    "Or everything but the last two rows."
   ]
  },
  {
   "cell_type": "code",
   "execution_count": null,
   "metadata": {},
   "outputs": [],
   "source": [
    "BalanceSheet[:-2]"
   ]
  },
  {
   "cell_type": "markdown",
   "metadata": {},
   "source": [
    "And, we can tell `pandas` to output the last row with the following."
   ]
  },
  {
   "cell_type": "code",
   "execution_count": null,
   "metadata": {},
   "outputs": [],
   "source": [
    "BalanceSheet[-1:]"
   ]
  },
  {
   "cell_type": "markdown",
   "metadata": {},
   "source": [
    "Or the last 3 rows."
   ]
  },
  {
   "cell_type": "code",
   "execution_count": null,
   "metadata": {},
   "outputs": [],
   "source": [
    "BalanceSheet[-3:]"
   ]
  },
  {
   "cell_type": "markdown",
   "metadata": {},
   "source": [
    "We can also combine our column and row selections to coordinate our data.\n",
    "\n",
    "For example, if we want to output the first two rows of the `Current liabilities` column."
   ]
  },
  {
   "cell_type": "code",
   "execution_count": null,
   "metadata": {},
   "outputs": [],
   "source": [
    "BalanceSheet[0:2][\"Current liabilities:\"]"
   ]
  },
  {
   "cell_type": "markdown",
   "metadata": {},
   "source": [
    "We can output multiple columns by putting the column labels in a series. For example, if we wanted to output both the `Current liabilities:` and the `Amount` columns we would be a series of the two labels, `[\"Current liabilities:\",\"Amount\"]`. This series then needs to be put in another pair of square brackets."
   ]
  },
  {
   "cell_type": "code",
   "execution_count": null,
   "metadata": {},
   "outputs": [],
   "source": [
    "BalanceSheet[0:2][[\"Current liabilities:\",\"Amount\"]]"
   ]
  },
  {
   "cell_type": "markdown",
   "metadata": {},
   "source": [
    "**Inserting more columns**"
   ]
  },
  {
   "cell_type": "markdown",
   "metadata": {},
   "source": [
    "Lets start this new section with some new data.\n",
    "\n",
    "This data is from prison populations in three UK prisons during July 2019 [1]."
   ]
  },
  {
   "cell_type": "code",
   "execution_count": null,
   "metadata": {},
   "outputs": [],
   "source": [
    "PrisonsData = pd.read_csv(\n",
    "    \"https://raw.githubusercontent.com/ThomasJewson/datasets/master/PrisonsData.csv\"\n",
    ")\n",
    "\n",
    "PrisonsData"
   ]
  },
  {
   "cell_type": "markdown",
   "metadata": {},
   "source": [
    "To add a new column to the right hand side of the `PrisonsData` DataFrame object we need to provide the data and the column label.\n",
    "\n",
    "Lets add the ratings of the prison, with the column label of `Rating` and the following data [2]:\n",
    "\n",
    "|Prison Name|Rating|\n",
    "|-|-|\n",
    "|Altcourse|3|\n",
    "|Bedford|1|\n",
    "|Cardiff|2|"
   ]
  },
  {
   "cell_type": "code",
   "execution_count": null,
   "metadata": {},
   "outputs": [],
   "source": [
    "PrisonsData[\"Rating\"] = [3,1,2]\n",
    "\n",
    "PrisonsData"
   ]
  },
  {
   "cell_type": "markdown",
   "metadata": {},
   "source": [
    "To add a column not on the right hand side is slightly more complex.\n",
    "\n",
    "To do this we need to use the `.insert()` function. Within the brackets we need to give the column index, the column label and the data - in that precise order. \n",
    "\n",
    "As Python starts counting from zero we give the columns the following indexes:\n",
    "\n",
    "|Column label|Column Index|\n",
    "|-|-|\n",
    "|Prison Name|0|\n",
    "|Capacity|1|\n",
    "|Rating|2|\n",
    "\n",
    "Lets add the prison populations as of July 2019, so that it is next to the `Capacity` column. "
   ]
  },
  {
   "cell_type": "code",
   "execution_count": null,
   "metadata": {},
   "outputs": [],
   "source": [
    "PrisonsData.insert(\n",
    "    2,                  # Column index\n",
    "    \"Population\",                # Column title\n",
    "    [1131,351,718]      # Population data\n",
    ")\n",
    "\n",
    "PrisonsData"
   ]
  },
  {
   "cell_type": "markdown",
   "metadata": {},
   "source": [
    "**Conclusions:**\n",
    "\n",
    "*You should now be able to do the following:*\n",
    "1. Read `.csv` files with `pandas` with the `pd.read_csv()` function\n",
    "2. Save DataFrames to `.csv` files with `.to_csv()` function\n",
    "3. Understand what an escape character is, and why we need to use `\"\\\\\"` to ouput a single backslash\n",
    "3. Coordinate and ouput specific data using square brackets\n",
    "4. Add a new column to the right hand side of the DataFrame\n",
    "5. Add a new column to a specific column index in the DataFrame using the `.insert()` function"
   ]
  },
  {
   "cell_type": "markdown",
   "metadata": {},
   "source": [
    "**Optional Extension:**\n",
    "\n",
    "The `pandas` library can open a variety of different file types, other than `.csv` files. In particular, it can open Microsoft Excel (`.xls`) and OpenDocument spreadsheet (`.ods`) file types. This can be achieved with the following functions: \n",
    "\n",
    "`pd.read_excel('path_to_file.xlsb', engine='pyxlsb')` for Excel spreadsheet files\n",
    "\n",
    "`pd.read_excel('path_to_file.ods', engine='odf')` for OpenDocument spreadsheet files\n",
    "\n",
    "To learn more about this, and about opening other file types read the following manual entry about [input and output](https://pandas.pydata.org/docs/user_guide/io.html).\n",
    "\n",
    "`pandas` has a handy trick where it can read and write to your clipboard. Your clipboard is what is saved when you right-click copy or CNTRL-C a peice of highlighted data. To learn how to do this read the manual entry on [clipboards](https://pandas.pydata.org/docs/user_guide/io.html#clipboard).\n",
    "\n",
    "To learn more about indexing and selecting data in `pandas`, read the manual entry for [indexing](https://pandas.pydata.org/docs/user_guide/indexing.html).\n"
   ]
  },
  {
   "cell_type": "markdown",
   "metadata": {},
   "source": [
    "**Sources**\n",
    "\n",
    "[1] https://www.gov.uk/government/statistics/prison-population-figures-2019\n",
    "\n",
    "[2] https://www.gov.uk/government/statistics/prison-performance-ratings-2018-to-2019\n",
    "\n",
    "    "
   ]
  }
 ],
 "metadata": {
  "kernelspec": {
   "display_name": "Python 3",
   "language": "python",
   "name": "python3"
  },
  "language_info": {
   "codemirror_mode": {
    "name": "ipython",
    "version": 3
   },
   "file_extension": ".py",
   "mimetype": "text/x-python",
   "name": "python",
   "nbconvert_exporter": "python",
   "pygments_lexer": "ipython3",
   "version": "3.7.4"
  }
 },
 "nbformat": 4,
 "nbformat_minor": 2
}
